{
 "cells": [
  {
   "cell_type": "code",
   "execution_count": null,
   "id": "initial_id",
   "metadata": {
    "collapsed": true,
    "is_executing": true
   },
   "outputs": [],
   "source": [
    "import cv2\n",
    "import numpy as np\n",
    "import matplotlib.pyplot as plt\n",
    "\n",
    "from enum import Enum\n",
    "from typing import Any, List\n",
    "from utils import *"
   ]
  },
  {
   "cell_type": "code",
   "execution_count": null,
   "outputs": [],
   "source": [
    "calib = cv2.cvtColor(cv2.imread('calib.png'), cv2.COLOR_BGR2RGB)\n",
    "calib = crop_box(calib, angel=-10)\n",
    "display_images([calib], ['calib'])"
   ],
   "metadata": {
    "collapsed": false,
    "is_executing": true
   },
   "id": "a6197567e9c5b931"
  },
  {
   "cell_type": "code",
   "execution_count": null,
   "outputs": [],
   "source": [
    "calib = cv2.imread('calib.png')\n",
    "calib = crop_box(calib, angel=-10)\n",
    "calib_hsv = cv2.cvtColor(calib, cv2.COLOR_BGR2HSV)\n",
    "calib_lab = cv2.cvtColor(calib, cv2.COLOR_BGR2LAB)\n",
    "test = cv2.imread('test.png')\n",
    "test = crop_box(test, angel=21)"
   ],
   "metadata": {
    "collapsed": false,
    "is_executing": true
   },
   "id": "b340a18f30fbc978"
  },
  {
   "cell_type": "code",
   "execution_count": null,
   "outputs": [],
   "source": [
    "analyze_channels(calib, calib_lab, calib_hsv)"
   ],
   "metadata": {
    "collapsed": false,
    "is_executing": true
   },
   "id": "11f7453b22485c2a"
  },
  {
   "cell_type": "code",
   "execution_count": null,
   "outputs": [],
   "source": [
    "H, S, V = cv2.split(calib_hsv)\n",
    "# global thresholding\n",
    "ret1,th1 = cv2.threshold(H,0,255,cv2.THRESH_BINARY_INV+cv2.THRESH_OTSU)\n",
    "print(ret1)\n",
    "display_images([H, th1], ['H', 'H thresholded'], True)"
   ],
   "metadata": {
    "collapsed": false,
    "is_executing": true
   },
   "id": "7f358b7da59b6650"
  },
  {
   "cell_type": "code",
   "execution_count": null,
   "outputs": [],
   "source": [
    "H, S, V = cv2.split(calib_hsv)\n",
    "# global thresholding\n",
    "ret1,th1 = cv2.threshold(H,75,255,cv2.THRESH_BINARY_INV)\n",
    "print(ret1)\n",
    "display_images([H, th1], ['H', 'H thresholded'], True)"
   ],
   "metadata": {
    "collapsed": false,
    "is_executing": true
   },
   "id": "e161d6d71744bd74"
  },
  {
   "cell_type": "code",
   "execution_count": null,
   "outputs": [],
   "source": [
    "def get_mask_pills(img):\n",
    "    hsv = cv2.cvtColor(img, cv2.COLOR_BGR2HSV)\n",
    "    H, S, V = cv2.split(hsv)\n",
    "    ret1,th1 = cv2.threshold(H,80,255,cv2.THRESH_BINARY_INV)\n",
    "    return th1"
   ],
   "metadata": {
    "collapsed": false,
    "is_executing": true
   },
   "id": "ca40021d2863dd15"
  },
  {
   "cell_type": "code",
   "execution_count": null,
   "outputs": [],
   "source": [
    "def get_mask_espu(img, morph=True, kernel_size=3, iterations=1, thresh_val=180):\n",
    "    img_lab = cv2.cvtColor(img, cv2.COLOR_BGR2LAB)\n",
    "    l, a, b = cv2.split(img_lab)\n",
    "    ret, thresh = cv2.threshold(b, thresh_val, 255, cv2.THRESH_BINARY_INV)\n",
    "\n",
    "    if morph:\n",
    "        kernel = np.ones((kernel_size, kernel_size), np.uint8)\n",
    "        thresh = cv2.morphologyEx(thresh, cv2.MORPH_OPEN, kernel, iterations=iterations)\n",
    "    return thresh"
   ],
   "metadata": {
    "collapsed": false,
    "is_executing": true
   },
   "id": "bd193b31bf3dd0a6"
  },
  {
   "cell_type": "code",
   "execution_count": null,
   "outputs": [],
   "source": [
    "def blue_xy(img):\n",
    "    L, A, B = cv2.split(cv2.cvtColor(img, cv2.COLOR_BGR2LAB))\n",
    "    ret1,th1 = cv2.threshold(A,165,255,cv2.THRESH_BINARY)\n",
    "    kernel = np.ones((3,3), np.uint8)\n",
    "    erode = cv2.erode(th1, kernel, iterations=3)\n",
    "    close  = erode\n",
    "    # close = cv2.morphologyEx(erode, cv2.MORPH_CLOSE, kernel, iterations=1)\n",
    "    contours = cv2.findContours(close, cv2.RETR_TREE, cv2.CHAIN_APPROX_SIMPLE)[0]\n",
    "    contours = [c for c in contours if (len(c) > 5 and cv2.contourArea(c) > 300)]\n",
    "    blue_xy = []\n",
    "    for c in contours:\n",
    "        # feat elipses\n",
    "        ellipse = cv2.fitEllipse(c)\n",
    "        x, y = ellipse[0]\n",
    "        blue_xy.append((x, y))\n",
    "    return blue_xy\n"
   ],
   "metadata": {
    "collapsed": false,
    "is_executing": true
   },
   "id": "8c71ff3c89322107"
  },
  {
   "cell_type": "code",
   "execution_count": null,
   "outputs": [],
   "source": [
    "def detect_whites(img):\n",
    "    img = cv2.GaussianBlur(img, (1,1), 0)\n",
    "    mask = get_mask_pills(img)\n",
    "    result = apply_mask(img, mask)\n",
    "    \n",
    "    L, A, B = cv2.split(cv2.cvtColor(result, cv2.COLOR_BGR2LAB))\n",
    "    ret1,th1 = cv2.threshold(L,125,255,cv2.THRESH_BINARY)\n",
    "    espu = get_mask_espu(img)\n",
    "    result2 = apply_mask(th1, espu)\n",
    "    kernel = np.ones((3,3), np.uint8)\n",
    "    result2 = cv2.morphologyEx(result2, cv2.MORPH_OPEN, kernel, iterations=11)\n",
    "    # erode \n",
    "    kernel = np.ones((3,3), np.uint8)\n",
    "    result2 = cv2.erode(result2, kernel, iterations=13)\n",
    "    # morpho close\n",
    "    kernel = np.ones((1,1), np.uint8)\n",
    "    result2 = cv2.morphologyEx(result2, cv2.MORPH_CLOSE, kernel, iterations=1)\n",
    "    # result2 = cv2.distanceTransform(result2, cv2.DIST_L2, 5)\n",
    "    # result2 = cv2.normalize(result2, result2, 0, 1.0, cv2.NORM_MINMAX, dtype=cv2.CV_8U)\n",
    "    return result2"
   ],
   "metadata": {
    "collapsed": false,
    "is_executing": true
   },
   "id": "9c7153814b16e908"
  },
  {
   "cell_type": "code",
   "execution_count": null,
   "outputs": [],
   "source": [
    "def calculate_aspect_ratio(ellipse):\n",
    "    len1, len2 = ellipse[1]\n",
    "    return len1 / len2"
   ],
   "metadata": {
    "collapsed": false,
    "is_executing": true
   },
   "id": "d3d7d435b2ae7003"
  },
  {
   "cell_type": "code",
   "execution_count": null,
   "outputs": [],
   "source": [
    "def detect_biox_probio(img):\n",
    "    w = detect_whites(img)\n",
    "    # display_images([w], ['whites'], True)\n",
    "    # contours\n",
    "    contours, hierarchy = cv2.findContours(w, cv2.RETR_TREE, cv2.CHAIN_APPROX_SIMPLE)\n",
    "    # feat elipses\n",
    "    ellipses = []\n",
    "    for c in contours:\n",
    "        if len(c) > 5: \n",
    "            ellipse = cv2.fitEllipse(c)\n",
    "            ellipses.append(ellipse)\n",
    "    # draw ellipses\n",
    "    result = img.copy()\n",
    "    bluexy = blue_xy(img)\n",
    "    \n",
    "    for e in ellipses:\n",
    "        text = str(calculate_aspect_ratio(e))   \n",
    "        area = cv2.contourArea(c)\n",
    "        x, y = e[0]\n",
    "        if any([abs(np.linalg.norm(np.array([x, y]) - np.array([bx, by]))) < 90 for bx, by in bluexy]):\n",
    "            continue\n",
    "        if calculate_aspect_ratio(e) > 0.4:\n",
    "            cv2.ellipse(result, e, (0, 255, 0), 2)\n",
    "            cv2.putText(result, text, (int(e[0][0]), int(e[0][1])), cv2.FONT_HERSHEY_SIMPLEX, 0.5, (0, 255, 0), 1)\n",
    "        if calculate_aspect_ratio(e) < 0.3:\n",
    "            cv2.ellipse(result, e, (0, 0, 255), 2)\n",
    "            cv2.putText(result, text, (int(e[0][0]), int(e[0][1])), cv2.FONT_HERSHEY_SIMPLEX, 0.5, (0, 0, 255), 1)\n",
    "    display_images([result], ['result'], True)\n"
   ],
   "metadata": {
    "collapsed": false,
    "is_executing": true
   },
   "id": "77144c0ae8c14359"
  },
  {
   "cell_type": "code",
   "execution_count": null,
   "outputs": [],
   "source": [
    "detect_biox_probio(calib)"
   ],
   "metadata": {
    "collapsed": false,
    "is_executing": true
   },
   "id": "bab0e923464e6d5f"
  },
  {
   "cell_type": "code",
   "execution_count": null,
   "outputs": [],
   "source": [],
   "metadata": {
    "collapsed": false,
    "is_executing": true
   },
   "id": "a36fd9a9cbfd422e"
  }
 ],
 "metadata": {
  "kernelspec": {
   "display_name": "Python 3",
   "language": "python",
   "name": "python3"
  },
  "language_info": {
   "codemirror_mode": {
    "name": "ipython",
    "version": 2
   },
   "file_extension": ".py",
   "mimetype": "text/x-python",
   "name": "python",
   "nbconvert_exporter": "python",
   "pygments_lexer": "ipython2",
   "version": "2.7.6"
  }
 },
 "nbformat": 4,
 "nbformat_minor": 5
}
